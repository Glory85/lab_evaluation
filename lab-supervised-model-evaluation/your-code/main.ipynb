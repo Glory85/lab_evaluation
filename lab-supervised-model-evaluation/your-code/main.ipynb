{
 "cells": [
  {
   "cell_type": "markdown",
   "metadata": {},
   "source": [
    "# Supervised Learning Model Evaluation Lab\n",
    "\n",
    "Complete the exercises below to solidify your knowledge and understanding of supervised learning model evaluation."
   ]
  },
  {
   "cell_type": "code",
   "execution_count": 1,
   "metadata": {
    "ExecuteTime": {
     "end_time": "2019-10-06T11:04:58.348240Z",
     "start_time": "2019-10-06T11:04:57.843897Z"
    }
   },
   "outputs": [],
   "source": [
    "import pandas as pd"
   ]
  },
  {
   "cell_type": "markdown",
   "metadata": {},
   "source": [
    "## Regression Model Evaluation"
   ]
  },
  {
   "cell_type": "markdown",
   "metadata": {},
   "source": [
    "Load the boston dataset using sklearn and get the datasets X and y containing the target and the rest of the variables"
   ]
  },
  {
   "cell_type": "code",
   "execution_count": 3,
   "metadata": {
    "ExecuteTime": {
     "end_time": "2019-10-06T11:04:58.780598Z",
     "start_time": "2019-10-06T11:04:58.350203Z"
    }
   },
   "outputs": [],
   "source": [
    "from sklearn import datasets\n",
    "boston = datasets.load_boston()"
   ]
  },
  {
   "cell_type": "code",
   "execution_count": 8,
   "metadata": {},
   "outputs": [
    {
     "name": "stdout",
     "output_type": "stream",
     "text": [
      ".. _boston_dataset:\n",
      "\n",
      "Boston house prices dataset\n",
      "---------------------------\n",
      "\n",
      "**Data Set Characteristics:**  \n",
      "\n",
      "    :Number of Instances: 506 \n",
      "\n",
      "    :Number of Attributes: 13 numeric/categorical predictive. Median Value (attribute 14) is usually the target.\n",
      "\n",
      "    :Attribute Information (in order):\n",
      "        - CRIM     per capita crime rate by town\n",
      "        - ZN       proportion of residential land zoned for lots over 25,000 sq.ft.\n",
      "        - INDUS    proportion of non-retail business acres per town\n",
      "        - CHAS     Charles River dummy variable (= 1 if tract bounds river; 0 otherwise)\n",
      "        - NOX      nitric oxides concentration (parts per 10 million)\n",
      "        - RM       average number of rooms per dwelling\n",
      "        - AGE      proportion of owner-occupied units built prior to 1940\n",
      "        - DIS      weighted distances to five Boston employment centres\n",
      "        - RAD      index of accessibility to radial highways\n",
      "        - TAX      full-value property-tax rate per $10,000\n",
      "        - PTRATIO  pupil-teacher ratio by town\n",
      "        - B        1000(Bk - 0.63)^2 where Bk is the proportion of blacks by town\n",
      "        - LSTAT    % lower status of the population\n",
      "        - MEDV     Median value of owner-occupied homes in $1000's\n",
      "\n",
      "    :Missing Attribute Values: None\n",
      "\n",
      "    :Creator: Harrison, D. and Rubinfeld, D.L.\n",
      "\n",
      "This is a copy of UCI ML housing dataset.\n",
      "https://archive.ics.uci.edu/ml/machine-learning-databases/housing/\n",
      "\n",
      "\n",
      "This dataset was taken from the StatLib library which is maintained at Carnegie Mellon University.\n",
      "\n",
      "The Boston house-price data of Harrison, D. and Rubinfeld, D.L. 'Hedonic\n",
      "prices and the demand for clean air', J. Environ. Economics & Management,\n",
      "vol.5, 81-102, 1978.   Used in Belsley, Kuh & Welsch, 'Regression diagnostics\n",
      "...', Wiley, 1980.   N.B. Various transformations are used in the table on\n",
      "pages 244-261 of the latter.\n",
      "\n",
      "The Boston house-price data has been used in many machine learning papers that address regression\n",
      "problems.   \n",
      "     \n",
      ".. topic:: References\n",
      "\n",
      "   - Belsley, Kuh & Welsch, 'Regression diagnostics: Identifying Influential Data and Sources of Collinearity', Wiley, 1980. 244-261.\n",
      "   - Quinlan,R. (1993). Combining Instance-Based and Model-Based Learning. In Proceedings on the Tenth International Conference of Machine Learning, 236-243, University of Massachusetts, Amherst. Morgan Kaufmann.\n",
      "\n"
     ]
    }
   ],
   "source": [
    "print(boston.DESCR)"
   ]
  },
  {
   "cell_type": "code",
   "execution_count": 6,
   "metadata": {},
   "outputs": [],
   "source": [
    "X = boston.data"
   ]
  },
  {
   "cell_type": "code",
   "execution_count": 7,
   "metadata": {},
   "outputs": [],
   "source": [
    "y = boston.target"
   ]
  },
  {
   "cell_type": "markdown",
   "metadata": {},
   "source": [
    "### Split this data set into training (80%) and testing (20%) sets.\n",
    "\n",
    "The `MEDV` field represents the median value of owner-occupied homes (in $1000's) and is the target variable that we will want to predict."
   ]
  },
  {
   "cell_type": "code",
   "execution_count": 10,
   "metadata": {},
   "outputs": [],
   "source": [
    "from sklearn.model_selection import train_test_split"
   ]
  },
  {
   "cell_type": "code",
   "execution_count": 11,
   "metadata": {
    "ExecuteTime": {
     "end_time": "2019-10-06T10:57:15.516617Z",
     "start_time": "2019-10-06T10:57:15.493351Z"
    }
   },
   "outputs": [],
   "source": [
    "X_train, X_test, y_train, y_test = train_test_split(X,y,test_size =0.2,random_state=42)"
   ]
  },
  {
   "cell_type": "markdown",
   "metadata": {},
   "source": [
    "### Train a `LinearRegression` model on this data set and generate predictions on both the training and the testing set."
   ]
  },
  {
   "cell_type": "code",
   "execution_count": 12,
   "metadata": {
    "ExecuteTime": {
     "end_time": "2019-10-06T10:57:15.592429Z",
     "start_time": "2019-10-06T10:57:15.518608Z"
    }
   },
   "outputs": [],
   "source": [
    "from sklearn.linear_model import LinearRegression"
   ]
  },
  {
   "cell_type": "code",
   "execution_count": 13,
   "metadata": {},
   "outputs": [],
   "source": [
    "boston_model = LinearRegression()"
   ]
  },
  {
   "cell_type": "code",
   "execution_count": 14,
   "metadata": {},
   "outputs": [
    {
     "data": {
      "text/plain": [
       "LinearRegression()"
      ]
     },
     "execution_count": 14,
     "metadata": {},
     "output_type": "execute_result"
    }
   ],
   "source": [
    "boston_model.fit(X_train,y_train)"
   ]
  },
  {
   "cell_type": "code",
   "execution_count": 17,
   "metadata": {},
   "outputs": [
    {
     "data": {
      "text/plain": [
       "array([10.96952405, 19.41196567, 23.06419602, 12.1470648 , 18.3738116 ,\n",
       "       25.24677946, 20.77024774, 23.90932632,  7.81713319, 19.60988098,\n",
       "       21.8202963 , 27.59615864, 32.67986504, 15.12308446, 35.3964561 ,\n",
       "       12.99688651, 20.728181  , 28.30223542, 15.61724836, 24.45143096,\n",
       "        4.61794591, 23.76681932, 25.56178249, 22.98928526, 24.5213025 ,\n",
       "       34.06407919, 19.71166707, 39.11233072, 14.62515846, 24.81139885,\n",
       "       18.02332883, 20.85836445,  9.57577261, 20.87246835, 22.28583096,\n",
       "       31.79327155, 31.04748307, 15.70611763, 17.01382935, 28.23332703,\n",
       "       24.27661276, 16.88670215,  6.90720745, 26.75808901, 22.586493  ,\n",
       "       17.53664716, 13.77197016, 41.04840929, 16.44690754, 18.23531669,\n",
       "       25.37038646, 23.64581399, 22.05322581, 20.83620499, 16.93508273,\n",
       "       22.797579  , 29.13333934,  7.69310515, 24.60571452, 17.2358028 ,\n",
       "       21.10846551, 25.15150324, 27.33394823, 21.30494963, 41.5811902 ,\n",
       "       19.19666651, 15.37955448, 19.33545877, 17.04687638, 22.96801532,\n",
       "       23.11094953, 33.6977586 , 22.77436405, 20.28968381, 25.35517813,\n",
       "       31.02479125, 33.05103792, 28.44712333,  8.50926331,  5.61220643,\n",
       "       12.81228164, 19.81854491, 34.8603548 , 33.47481463, 15.81288676,\n",
       "        4.16863764, 32.81131556, 21.22307142, 18.97752706, 26.36174269,\n",
       "       18.38053781, 17.80316891, 11.8730344 , 31.84801205, 24.45344478,\n",
       "       20.0222241 , 19.5225374 , 11.8723419 , 28.90289906, 19.7133604 ,\n",
       "       32.47093634, 33.20696505, 24.79405395, 21.25197228, 25.03045081,\n",
       "       43.36995367, 29.54151469, 33.75302939, 26.27516427, 27.04791799,\n",
       "       15.1908027 , 31.34177077, 20.85218327, 31.05070715, 28.74449991,\n",
       "       21.16535503, 23.06717742, 12.48881717, 36.48751917, 37.24291141,\n",
       "       33.23617345,  5.30863493, 20.82773333, 22.16769067, 35.62579793,\n",
       "       17.10890633, 22.76667   , 19.50567599, 26.36980524, 16.03780391,\n",
       "       20.63186041, 27.04508116, 31.39596353, 31.12597743, 22.78355908,\n",
       "       39.11521781, 28.28378993, 30.53090392, 28.89518723, 21.08389783,\n",
       "       29.04801464, 16.151087  , 22.08243372, 24.61505524, 18.95878457,\n",
       "        2.06366066, 20.51120467, 26.85927261, 23.0775764 , 18.40141847,\n",
       "       22.70378324, 15.95162657, 31.54559763, 27.82356386, 34.19210038,\n",
       "       20.70876151, 15.1538496 , 19.55740929,  8.31853813, 13.62525632,\n",
       "       26.48611752, 16.52769982,  4.13593772, 24.73356662, 12.21856959,\n",
       "       28.24704463, 33.60549853, 36.84177072, 24.28136146, 20.7199677 ,\n",
       "       30.79885576, 36.93823489, 19.92152434, 19.59433404, 28.76197718,\n",
       "       13.28347615, 13.41116334, 10.89910148, 19.07573086, 22.65911351,\n",
       "       30.27080271, 29.77482371, 17.89252221, 29.83838757, 14.41987694,\n",
       "       13.24056207, 33.87859379, 19.6406762 , 14.54072369, 23.66498192,\n",
       "       22.41851151, 19.63248447, 24.660086  , 35.00833944,  4.12171868,\n",
       "       20.79593953, 33.240402  , 18.04778742, 22.6208596 , 22.39592759,\n",
       "       21.4012853 , 11.74782838, 38.18786922, 25.76751814, 24.80115706,\n",
       "       16.36524419, 31.98045427, 36.35420843, 39.11016375, 20.33864814,\n",
       "       22.16464728, 16.34276966, 39.35137104,  6.74954317, 21.35789894,\n",
       "       15.53370378, 26.91527204,  8.80382559, 20.93301971, -0.20588155,\n",
       "       17.21501492, 16.17150935,  8.48374754, 23.08202496, 17.23085262,\n",
       "       29.42673011, 44.36436789, 28.09470335, 23.75911874, 36.75959172,\n",
       "        8.71594791, 25.90885934, 20.83832124, 23.68119542, 19.85753143,\n",
       "       22.2992237 , 14.72942336, 18.4266911 , 22.45346464, 23.75648384,\n",
       "       28.82492146, 23.58310886, 27.30142666, 18.06532614, 13.16799771,\n",
       "       31.66795775, 28.77291955, 12.60179253, 17.38668341, 24.05174693,\n",
       "       40.7163898 , 23.0214736 , 12.83596226, 28.55024128, 36.850343  ,\n",
       "       23.26391794, 25.14113573, 38.36624745, 18.21318365, 25.69614391,\n",
       "       15.22833068, 24.14345412, 36.27095489, 31.03140871, 24.82017075,\n",
       "       17.7834844 , 17.99307546,  8.61827851, 41.51965821, 19.63259696,\n",
       "       30.16241039, 19.69581658, 14.59963591, 20.29467675, 24.22053288,\n",
       "       34.79282666, 26.51552807, 41.665796  , 12.32829593, 14.32092274,\n",
       "       23.69090327, 18.01762114, 19.72399411, 29.13009315, 11.10216617,\n",
       "       24.11213143, 18.54668994, 23.69765843, 30.11853879, 19.34756033,\n",
       "       12.52355093, 33.74737806, 16.90295464, 17.83165159, 19.34064029,\n",
       "       26.74379491, 35.24575625, 12.92253178, 26.69073573, 19.19640769,\n",
       "       30.29549933, 17.83878909, 22.92058129, 29.13254708, 20.02093559,\n",
       "       25.18893157, 20.95650827, 20.57624549, 32.93168351, 20.43565472,\n",
       "       25.41798459, 28.14952635, 37.59066882, 25.0548289 , 28.61534646,\n",
       "       17.97695227, 30.78085325, 23.57491321, 34.56676284, 18.52592551,\n",
       "       23.86972656, 13.82862001, 25.18152388, 17.67219765, 12.63704156,\n",
       "       17.03927502, 14.2510159 , 28.56862619, 22.99037971, 13.42262376,\n",
       "       17.40965124, 34.44268371, 12.93938984, 14.62427657, 27.50209814,\n",
       "       21.28772373, 21.8475453 , 27.75030943, 16.84106111, 35.70395065,\n",
       "       23.19717187, 19.70894368, 20.39856551, 31.03155183,  5.16165827,\n",
       "       36.26386827, 38.27409562, 21.44507004, 21.53203698, 13.25546637,\n",
       "       35.43733953, 19.75468373, 21.59325014, 27.28654912, 14.70336355,\n",
       "       20.10948908, 20.98738625, 20.42268561, 26.20840113, 11.28815662,\n",
       "       34.57059129, 22.65270668, 22.68814063, 33.20155069, 26.77878535,\n",
       "       21.55230365,  8.80963918, 28.40878163, 25.10012639, 25.47646583,\n",
       "       17.70215249, 25.63601841, 18.61140436, 32.77937269, 35.77461311,\n",
       "       18.3180684 , 30.14080347,  7.72488159, 26.25987699, 10.52826879,\n",
       "       27.30604251, 44.10078731, 28.92351314, 14.7836951 , 20.79445301,\n",
       "       17.96782515, 19.333174  , 33.02714571, 25.71055958, 25.89232968,\n",
       "       17.07165041, 21.95432205, 11.3511532 , 13.27742402, 22.66485295,\n",
       "       22.52252947, 12.30424735, 32.08396429, 22.11175771, 17.24071878,\n",
       "       22.00480027, 26.7237425 , 12.97674212, 19.14279551])"
      ]
     },
     "execution_count": 17,
     "metadata": {},
     "output_type": "execute_result"
    }
   ],
   "source": [
    "prediction_train = boston_model.predict(X_train)\n",
    "prediction_train"
   ]
  },
  {
   "cell_type": "code",
   "execution_count": 19,
   "metadata": {},
   "outputs": [
    {
     "data": {
      "text/plain": [
       "array([28.99672362, 36.02556534, 14.81694405, 25.03197915, 18.76987992,\n",
       "       23.25442929, 17.66253818, 14.34119   , 23.01320703, 20.63245597,\n",
       "       24.90850512, 18.63883645, -6.08842184, 21.75834668, 19.23922576,\n",
       "       26.19319733, 20.64773313,  5.79472718, 40.50033966, 17.61289074,\n",
       "       27.24909479, 30.06625441, 11.34179277, 24.16077616, 17.86058499,\n",
       "       15.83609765, 22.78148106, 14.57704449, 22.43626052, 19.19631835,\n",
       "       22.43383455, 25.21979081, 25.93909562, 17.70162434, 16.76911711,\n",
       "       16.95125411, 31.23340153, 20.13246729, 23.76579011, 24.6322925 ,\n",
       "       13.94204955, 32.25576301, 42.67251161, 17.32745046, 27.27618614,\n",
       "       16.99310991, 14.07009109, 25.90341861, 20.29485982, 29.95339638,\n",
       "       21.28860173, 34.34451856, 16.04739105, 26.22562412, 39.53939798,\n",
       "       22.57950697, 18.84531367, 32.72531661, 25.0673037 , 12.88628956,\n",
       "       22.68221908, 30.48287757, 31.52626806, 15.90148607, 20.22094826,\n",
       "       16.71089812, 20.52384893, 25.96356264, 30.61607978, 11.59783023,\n",
       "       20.51232627, 27.48111878, 11.01962332, 15.68096344, 23.79316251,\n",
       "        6.19929359, 21.6039073 , 41.41377225, 18.76548695,  8.87931901,\n",
       "       20.83076916, 13.25620627, 20.73963699,  9.36482222, 23.22444271,\n",
       "       31.9155003 , 19.10228271, 25.51579303, 29.04256769, 20.14358566,\n",
       "       25.5859787 ,  5.70159447, 20.09474756, 14.95069156, 12.50395648,\n",
       "       20.72635294, 24.73957161, -0.164237  , 13.68486682, 16.18359697,\n",
       "       22.27621999, 24.47902364])"
      ]
     },
     "execution_count": 19,
     "metadata": {},
     "output_type": "execute_result"
    }
   ],
   "source": [
    "prediction_test = boston_model.predict(X_test)\n",
    "prediction_test"
   ]
  },
  {
   "cell_type": "markdown",
   "metadata": {},
   "source": [
    "### Calculate and print R-squared for both the training and the testing set."
   ]
  },
  {
   "cell_type": "code",
   "execution_count": 29,
   "metadata": {
    "ExecuteTime": {
     "end_time": "2019-10-06T10:57:15.603134Z",
     "start_time": "2019-10-06T10:57:15.594701Z"
    }
   },
   "outputs": [],
   "source": [
    "from sklearn.metrics import r2_score, mean_squared_error, mean_absolute_error"
   ]
  },
  {
   "cell_type": "code",
   "execution_count": null,
   "metadata": {},
   "outputs": [],
   "source": [
    "#There are two ways to calculate the score "
   ]
  },
  {
   "cell_type": "code",
   "execution_count": 23,
   "metadata": {},
   "outputs": [
    {
     "data": {
      "text/plain": [
       "0.6687594935356329"
      ]
     },
     "execution_count": 23,
     "metadata": {},
     "output_type": "execute_result"
    }
   ],
   "source": [
    "r2_score(y_test,prediction_test)"
   ]
  },
  {
   "cell_type": "code",
   "execution_count": 25,
   "metadata": {},
   "outputs": [
    {
     "data": {
      "text/plain": [
       "0.6687594935356329"
      ]
     },
     "execution_count": 25,
     "metadata": {},
     "output_type": "execute_result"
    }
   ],
   "source": [
    "boston_model.score(X_test,y_test)"
   ]
  },
  {
   "cell_type": "code",
   "execution_count": 24,
   "metadata": {},
   "outputs": [
    {
     "data": {
      "text/plain": [
       "0.7508856358979673"
      ]
     },
     "execution_count": 24,
     "metadata": {},
     "output_type": "execute_result"
    }
   ],
   "source": [
    "r2_score(y_train,prediction_train)"
   ]
  },
  {
   "cell_type": "code",
   "execution_count": 26,
   "metadata": {},
   "outputs": [
    {
     "data": {
      "text/plain": [
       "0.7508856358979673"
      ]
     },
     "execution_count": 26,
     "metadata": {},
     "output_type": "execute_result"
    }
   ],
   "source": [
    "boston_model.score(X_train,y_train)"
   ]
  },
  {
   "cell_type": "markdown",
   "metadata": {},
   "source": [
    "### Calculate and print mean squared error for both the training and the testing set."
   ]
  },
  {
   "cell_type": "code",
   "execution_count": 30,
   "metadata": {
    "ExecuteTime": {
     "end_time": "2019-10-06T10:57:15.612572Z",
     "start_time": "2019-10-06T10:57:15.605413Z"
    }
   },
   "outputs": [
    {
     "data": {
      "text/plain": [
       "21.641412753226312"
      ]
     },
     "execution_count": 30,
     "metadata": {},
     "output_type": "execute_result"
    }
   ],
   "source": [
    "mean_squared_error(y_train,prediction_train)"
   ]
  },
  {
   "cell_type": "code",
   "execution_count": 31,
   "metadata": {},
   "outputs": [
    {
     "data": {
      "text/plain": [
       "24.291119474973456"
      ]
     },
     "execution_count": 31,
     "metadata": {},
     "output_type": "execute_result"
    }
   ],
   "source": [
    "mean_squared_error(y_test,prediction_test)"
   ]
  },
  {
   "cell_type": "markdown",
   "metadata": {},
   "source": [
    "### Calculate and print mean absolute error for both the training and the testing set."
   ]
  },
  {
   "cell_type": "code",
   "execution_count": 32,
   "metadata": {
    "ExecuteTime": {
     "end_time": "2019-10-06T10:57:15.622721Z",
     "start_time": "2019-10-06T10:57:15.615043Z"
    }
   },
   "outputs": [
    {
     "data": {
      "text/plain": [
       "3.3147716267832226"
      ]
     },
     "execution_count": 32,
     "metadata": {},
     "output_type": "execute_result"
    }
   ],
   "source": [
    "mean_absolute_error(y_train,prediction_train)"
   ]
  },
  {
   "cell_type": "code",
   "execution_count": 33,
   "metadata": {},
   "outputs": [
    {
     "data": {
      "text/plain": [
       "3.1890919658878287"
      ]
     },
     "execution_count": 33,
     "metadata": {},
     "output_type": "execute_result"
    }
   ],
   "source": [
    "mean_absolute_error(y_test,prediction_test)"
   ]
  },
  {
   "cell_type": "markdown",
   "metadata": {},
   "source": [
    "## Classification Model Evaluation"
   ]
  },
  {
   "cell_type": "markdown",
   "metadata": {
    "ExecuteTime": {
     "end_time": "2019-10-06T11:04:12.134381Z",
     "start_time": "2019-10-06T11:04:12.130110Z"
    }
   },
   "source": [
    "Load the iris dataset using sklearn and get the datasets X and y containing the target and the rest of the variables"
   ]
  },
  {
   "cell_type": "code",
   "execution_count": 34,
   "metadata": {
    "ExecuteTime": {
     "end_time": "2019-10-06T11:04:58.785974Z",
     "start_time": "2019-10-06T11:04:58.783055Z"
    }
   },
   "outputs": [],
   "source": [
    "from sklearn.datasets import load_iris"
   ]
  },
  {
   "cell_type": "code",
   "execution_count": 35,
   "metadata": {},
   "outputs": [],
   "source": [
    "iris = load_iris()"
   ]
  },
  {
   "cell_type": "code",
   "execution_count": 40,
   "metadata": {},
   "outputs": [
    {
     "name": "stdout",
     "output_type": "stream",
     "text": [
      ".. _iris_dataset:\n",
      "\n",
      "Iris plants dataset\n",
      "--------------------\n",
      "\n",
      "**Data Set Characteristics:**\n",
      "\n",
      "    :Number of Instances: 150 (50 in each of three classes)\n",
      "    :Number of Attributes: 4 numeric, predictive attributes and the class\n",
      "    :Attribute Information:\n",
      "        - sepal length in cm\n",
      "        - sepal width in cm\n",
      "        - petal length in cm\n",
      "        - petal width in cm\n",
      "        - class:\n",
      "                - Iris-Setosa\n",
      "                - Iris-Versicolour\n",
      "                - Iris-Virginica\n",
      "                \n",
      "    :Summary Statistics:\n",
      "\n",
      "    ============== ==== ==== ======= ===== ====================\n",
      "                    Min  Max   Mean    SD   Class Correlation\n",
      "    ============== ==== ==== ======= ===== ====================\n",
      "    sepal length:   4.3  7.9   5.84   0.83    0.7826\n",
      "    sepal width:    2.0  4.4   3.05   0.43   -0.4194\n",
      "    petal length:   1.0  6.9   3.76   1.76    0.9490  (high!)\n",
      "    petal width:    0.1  2.5   1.20   0.76    0.9565  (high!)\n",
      "    ============== ==== ==== ======= ===== ====================\n",
      "\n",
      "    :Missing Attribute Values: None\n",
      "    :Class Distribution: 33.3% for each of 3 classes.\n",
      "    :Creator: R.A. Fisher\n",
      "    :Donor: Michael Marshall (MARSHALL%PLU@io.arc.nasa.gov)\n",
      "    :Date: July, 1988\n",
      "\n",
      "The famous Iris database, first used by Sir R.A. Fisher. The dataset is taken\n",
      "from Fisher's paper. Note that it's the same as in R, but not as in the UCI\n",
      "Machine Learning Repository, which has two wrong data points.\n",
      "\n",
      "This is perhaps the best known database to be found in the\n",
      "pattern recognition literature.  Fisher's paper is a classic in the field and\n",
      "is referenced frequently to this day.  (See Duda & Hart, for example.)  The\n",
      "data set contains 3 classes of 50 instances each, where each class refers to a\n",
      "type of iris plant.  One class is linearly separable from the other 2; the\n",
      "latter are NOT linearly separable from each other.\n",
      "\n",
      ".. topic:: References\n",
      "\n",
      "   - Fisher, R.A. \"The use of multiple measurements in taxonomic problems\"\n",
      "     Annual Eugenics, 7, Part II, 179-188 (1936); also in \"Contributions to\n",
      "     Mathematical Statistics\" (John Wiley, NY, 1950).\n",
      "   - Duda, R.O., & Hart, P.E. (1973) Pattern Classification and Scene Analysis.\n",
      "     (Q327.D83) John Wiley & Sons.  ISBN 0-471-22361-1.  See page 218.\n",
      "   - Dasarathy, B.V. (1980) \"Nosing Around the Neighborhood: A New System\n",
      "     Structure and Classification Rule for Recognition in Partially Exposed\n",
      "     Environments\".  IEEE Transactions on Pattern Analysis and Machine\n",
      "     Intelligence, Vol. PAMI-2, No. 1, 67-71.\n",
      "   - Gates, G.W. (1972) \"The Reduced Nearest Neighbor Rule\".  IEEE Transactions\n",
      "     on Information Theory, May 1972, 431-433.\n",
      "   - See also: 1988 MLC Proceedings, 54-64.  Cheeseman et al\"s AUTOCLASS II\n",
      "     conceptual clustering system finds 3 classes in the data.\n",
      "   - Many, many more ...\n"
     ]
    }
   ],
   "source": [
    "print(iris.DESCR)"
   ]
  },
  {
   "cell_type": "code",
   "execution_count": 36,
   "metadata": {},
   "outputs": [],
   "source": [
    "X = iris.data"
   ]
  },
  {
   "cell_type": "code",
   "execution_count": 37,
   "metadata": {},
   "outputs": [],
   "source": [
    "y = iris.target"
   ]
  },
  {
   "cell_type": "markdown",
   "metadata": {},
   "source": [
    "### Split this data set into training (80%) and testing (20%) sets.\n",
    "\n",
    "The `class` field represents the type of flower and is the target variable that we will want to predict."
   ]
  },
  {
   "cell_type": "code",
   "execution_count": 42,
   "metadata": {
    "ExecuteTime": {
     "end_time": "2019-10-06T10:57:15.645167Z",
     "start_time": "2019-10-06T10:57:15.638933Z"
    }
   },
   "outputs": [],
   "source": [
    "X_train, X_test, y_train, y_test = train_test_split(X,y,test_size =0.2,random_state=42)"
   ]
  },
  {
   "cell_type": "markdown",
   "metadata": {},
   "source": [
    "### Train a `LogisticRegression` model on this data set and generate predictions on both the training and the testing set."
   ]
  },
  {
   "cell_type": "code",
   "execution_count": 43,
   "metadata": {
    "ExecuteTime": {
     "end_time": "2019-10-06T10:57:15.658336Z",
     "start_time": "2019-10-06T10:57:15.647798Z"
    }
   },
   "outputs": [],
   "source": [
    "from sklearn.linear_model import LogisticRegression"
   ]
  },
  {
   "cell_type": "code",
   "execution_count": 48,
   "metadata": {},
   "outputs": [],
   "source": [
    "iris_model = LogisticRegression(max_iter=1000)"
   ]
  },
  {
   "cell_type": "code",
   "execution_count": 49,
   "metadata": {},
   "outputs": [
    {
     "data": {
      "text/plain": [
       "LogisticRegression(max_iter=1000)"
      ]
     },
     "execution_count": 49,
     "metadata": {},
     "output_type": "execute_result"
    }
   ],
   "source": [
    "iris_model.fit(X_train,y_train)"
   ]
  },
  {
   "cell_type": "markdown",
   "metadata": {},
   "source": [
    "### Calculate and print the accuracy score for both the training and the testing set."
   ]
  },
  {
   "cell_type": "code",
   "execution_count": 50,
   "metadata": {
    "ExecuteTime": {
     "end_time": "2019-10-06T10:57:15.666976Z",
     "start_time": "2019-10-06T10:57:15.660582Z"
    }
   },
   "outputs": [
    {
     "data": {
      "text/plain": [
       "0.975"
      ]
     },
     "execution_count": 50,
     "metadata": {},
     "output_type": "execute_result"
    }
   ],
   "source": [
    "iris_model.score(X_train, y_train)"
   ]
  },
  {
   "cell_type": "code",
   "execution_count": 52,
   "metadata": {},
   "outputs": [
    {
     "data": {
      "text/plain": [
       "1.0"
      ]
     },
     "execution_count": 52,
     "metadata": {},
     "output_type": "execute_result"
    }
   ],
   "source": [
    "iris_model.score(X_test, y_test)"
   ]
  },
  {
   "cell_type": "code",
   "execution_count": 56,
   "metadata": {},
   "outputs": [],
   "source": [
    "#Another way would be as follows:"
   ]
  },
  {
   "cell_type": "code",
   "execution_count": 57,
   "metadata": {},
   "outputs": [],
   "source": [
    "from sklearn.metrics import accuracy_score"
   ]
  },
  {
   "cell_type": "code",
   "execution_count": 58,
   "metadata": {},
   "outputs": [],
   "source": [
    "y_predict_train = iris_model.predict(X_train)"
   ]
  },
  {
   "cell_type": "code",
   "execution_count": 59,
   "metadata": {},
   "outputs": [],
   "source": [
    "y_predict_test = iris_model.predict(X_test)"
   ]
  },
  {
   "cell_type": "code",
   "execution_count": 61,
   "metadata": {},
   "outputs": [
    {
     "data": {
      "text/plain": [
       "0.975"
      ]
     },
     "execution_count": 61,
     "metadata": {},
     "output_type": "execute_result"
    }
   ],
   "source": [
    "accuracy_score(y_train, y_predict_train)"
   ]
  },
  {
   "cell_type": "code",
   "execution_count": 60,
   "metadata": {},
   "outputs": [
    {
     "data": {
      "text/plain": [
       "1.0"
      ]
     },
     "execution_count": 60,
     "metadata": {},
     "output_type": "execute_result"
    }
   ],
   "source": [
    "accuracy_score(y_test, y_predict_test)"
   ]
  },
  {
   "cell_type": "markdown",
   "metadata": {},
   "source": [
    "### Calculate and print the balanced accuracy score for both the training and the testing set."
   ]
  },
  {
   "cell_type": "code",
   "execution_count": 53,
   "metadata": {
    "ExecuteTime": {
     "end_time": "2019-10-06T10:57:15.677012Z",
     "start_time": "2019-10-06T10:57:15.669305Z"
    }
   },
   "outputs": [],
   "source": [
    "from sklearn.metrics import balanced_accuracy_score"
   ]
  },
  {
   "cell_type": "code",
   "execution_count": 65,
   "metadata": {},
   "outputs": [
    {
     "data": {
      "text/plain": [
       "0.975609756097561"
      ]
     },
     "execution_count": 65,
     "metadata": {},
     "output_type": "execute_result"
    }
   ],
   "source": [
    "balanced_accuracy_score(y_train, y_predict_train)"
   ]
  },
  {
   "cell_type": "code",
   "execution_count": 73,
   "metadata": {},
   "outputs": [
    {
     "data": {
      "text/plain": [
       "1.0"
      ]
     },
     "execution_count": 73,
     "metadata": {},
     "output_type": "execute_result"
    }
   ],
   "source": [
    "balanced_accuracy_score(y_test, y_predict_test)"
   ]
  },
  {
   "cell_type": "markdown",
   "metadata": {},
   "source": [
    "### Calculate and print the precision score for both the training and the testing set."
   ]
  },
  {
   "cell_type": "code",
   "execution_count": 54,
   "metadata": {
    "ExecuteTime": {
     "end_time": "2019-10-06T10:57:15.689489Z",
     "start_time": "2019-10-06T10:57:15.679852Z"
    }
   },
   "outputs": [],
   "source": [
    "from sklearn.metrics import precision_score"
   ]
  },
  {
   "cell_type": "code",
   "execution_count": 71,
   "metadata": {},
   "outputs": [
    {
     "data": {
      "text/plain": [
       "0.975"
      ]
     },
     "execution_count": 71,
     "metadata": {},
     "output_type": "execute_result"
    }
   ],
   "source": [
    "precision_score(y_train, y_predict_train, average = \"micro\")"
   ]
  },
  {
   "cell_type": "code",
   "execution_count": 72,
   "metadata": {},
   "outputs": [
    {
     "data": {
      "text/plain": [
       "1.0"
      ]
     },
     "execution_count": 72,
     "metadata": {},
     "output_type": "execute_result"
    }
   ],
   "source": [
    "precision_score(y_test, y_predict_test, average = \"micro\")"
   ]
  },
  {
   "cell_type": "markdown",
   "metadata": {},
   "source": [
    "### Calculate and print the recall score for both the training and the testing set."
   ]
  },
  {
   "cell_type": "code",
   "execution_count": 55,
   "metadata": {
    "ExecuteTime": {
     "end_time": "2019-10-06T10:57:15.737621Z",
     "start_time": "2019-10-06T10:57:15.729652Z"
    }
   },
   "outputs": [],
   "source": [
    "from sklearn.metrics import recall_score"
   ]
  },
  {
   "cell_type": "code",
   "execution_count": 69,
   "metadata": {},
   "outputs": [
    {
     "data": {
      "text/plain": [
       "0.975"
      ]
     },
     "execution_count": 69,
     "metadata": {},
     "output_type": "execute_result"
    }
   ],
   "source": [
    "recall_score(y_train, y_predict_train, average = \"micro\")"
   ]
  },
  {
   "cell_type": "code",
   "execution_count": 74,
   "metadata": {},
   "outputs": [
    {
     "data": {
      "text/plain": [
       "1.0"
      ]
     },
     "execution_count": 74,
     "metadata": {},
     "output_type": "execute_result"
    }
   ],
   "source": [
    "recall_score(y_test, y_predict_test, average = \"micro\")"
   ]
  },
  {
   "cell_type": "markdown",
   "metadata": {},
   "source": [
    "### Calculate and print the F1 score for both the training and the testing set."
   ]
  },
  {
   "cell_type": "code",
   "execution_count": 62,
   "metadata": {
    "ExecuteTime": {
     "end_time": "2019-10-06T10:57:15.828859Z",
     "start_time": "2019-10-06T10:57:15.822037Z"
    }
   },
   "outputs": [],
   "source": [
    "from sklearn.metrics import f1_score"
   ]
  },
  {
   "cell_type": "code",
   "execution_count": 75,
   "metadata": {},
   "outputs": [
    {
     "data": {
      "text/plain": [
       "0.975"
      ]
     },
     "execution_count": 75,
     "metadata": {},
     "output_type": "execute_result"
    }
   ],
   "source": [
    "f1_score(y_train, y_predict_train, average = \"micro\")"
   ]
  },
  {
   "cell_type": "code",
   "execution_count": 76,
   "metadata": {},
   "outputs": [
    {
     "data": {
      "text/plain": [
       "1.0"
      ]
     },
     "execution_count": 76,
     "metadata": {},
     "output_type": "execute_result"
    }
   ],
   "source": [
    "f1_score(y_test, y_predict_test, average = \"micro\")"
   ]
  },
  {
   "cell_type": "markdown",
   "metadata": {},
   "source": [
    "### Generate confusion matrices for both the training and the testing set."
   ]
  },
  {
   "cell_type": "code",
   "execution_count": 63,
   "metadata": {},
   "outputs": [],
   "source": [
    "from sklearn.metrics import confusion_matrix"
   ]
  },
  {
   "cell_type": "code",
   "execution_count": 77,
   "metadata": {
    "ExecuteTime": {
     "end_time": "2019-10-06T11:04:58.877690Z",
     "start_time": "2019-10-06T11:04:58.875462Z"
    }
   },
   "outputs": [
    {
     "data": {
      "text/plain": [
       "array([[40,  0,  0],\n",
       "       [ 0, 38,  3],\n",
       "       [ 0,  0, 39]], dtype=int64)"
      ]
     },
     "execution_count": 77,
     "metadata": {},
     "output_type": "execute_result"
    }
   ],
   "source": [
    "confusion_matrix(y_train, y_predict_train)"
   ]
  },
  {
   "cell_type": "code",
   "execution_count": 78,
   "metadata": {
    "ExecuteTime": {
     "end_time": "2019-10-06T11:04:58.882198Z",
     "start_time": "2019-10-06T11:04:58.879759Z"
    }
   },
   "outputs": [
    {
     "data": {
      "text/plain": [
       "array([[10,  0,  0],\n",
       "       [ 0,  9,  0],\n",
       "       [ 0,  0, 11]], dtype=int64)"
      ]
     },
     "execution_count": 78,
     "metadata": {},
     "output_type": "execute_result"
    }
   ],
   "source": [
    "confusion_matrix(y_test, y_predict_test)"
   ]
  },
  {
   "cell_type": "markdown",
   "metadata": {},
   "source": [
    "## Bonus: For each of the data sets in this lab, try training with some of the other models you have learned about, recalculate the evaluation metrics, and compare to determine which models perform best on each data set."
   ]
  }
 ],
 "metadata": {
  "kernelspec": {
   "display_name": "Python 3",
   "language": "python",
   "name": "python3"
  },
  "language_info": {
   "codemirror_mode": {
    "name": "ipython",
    "version": 3
   },
   "file_extension": ".py",
   "mimetype": "text/x-python",
   "name": "python",
   "nbconvert_exporter": "python",
   "pygments_lexer": "ipython3",
   "version": "3.8.5"
  },
  "toc": {
   "base_numbering": 1,
   "nav_menu": {},
   "number_sections": true,
   "sideBar": true,
   "skip_h1_title": false,
   "title_cell": "Table of Contents",
   "title_sidebar": "Contents",
   "toc_cell": false,
   "toc_position": {},
   "toc_section_display": true,
   "toc_window_display": false
  },
  "varInspector": {
   "cols": {
    "lenName": 16,
    "lenType": 16,
    "lenVar": 40
   },
   "kernels_config": {
    "python": {
     "delete_cmd_postfix": "",
     "delete_cmd_prefix": "del ",
     "library": "var_list.py",
     "varRefreshCmd": "print(var_dic_list())"
    },
    "r": {
     "delete_cmd_postfix": ") ",
     "delete_cmd_prefix": "rm(",
     "library": "var_list.r",
     "varRefreshCmd": "cat(var_dic_list()) "
    }
   },
   "types_to_exclude": [
    "module",
    "function",
    "builtin_function_or_method",
    "instance",
    "_Feature"
   ],
   "window_display": false
  }
 },
 "nbformat": 4,
 "nbformat_minor": 2
}
